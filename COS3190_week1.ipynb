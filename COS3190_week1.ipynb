{
  "cells": [
    {
      "cell_type": "markdown",
      "metadata": {
        "id": "view-in-github",
        "colab_type": "text"
      },
      "source": [
        "<a href=\"https://colab.research.google.com/github/CSRU63/COS3109_week1/blob/main/COS3190_week1.ipynb\" target=\"_parent\"><img src=\"https://colab.research.google.com/assets/colab-badge.svg\" alt=\"Open In Colab\"/></a>"
      ]
    },
    {
      "cell_type": "markdown",
      "metadata": {
        "id": "Z0g1mY3it6oU"
      },
      "source": [
        "# Intro to Phyton \n"
      ]
    },
    {
      "cell_type": "markdown",
      "metadata": {
        "id": "-JsZEg4twpAp"
      },
      "source": [
        "## Hello World"
      ]
    },
    {
      "cell_type": "code",
      "execution_count": null,
      "metadata": {
        "colab": {
          "base_uri": "https://localhost:8080/"
        },
        "id": "myBeHSCfuiIM",
        "outputId": "26a53e7a-0a22-42a0-9bc3-afd113155664"
      },
      "outputs": [
        {
          "output_type": "stream",
          "name": "stdout",
          "text": [
            "Hello World\n"
          ]
        }
      ],
      "source": [
        "# Never mind this statement, for compatibility reasons\n",
        "from __future__ import absolute_import, division, print_function, unicode_literals\n",
        "print(\"Hello World\")"
      ]
    },
    {
      "cell_type": "markdown",
      "metadata": {
        "id": "yLFkoIUTwdj-"
      },
      "source": [
        "## Function, Conditionals, and Iteration"
      ]
    },
    {
      "cell_type": "markdown",
      "metadata": {
        "id": "mRHzg3dLxkzg"
      },
      "source": [
        "### Function and contitional"
      ]
    },
    {
      "cell_type": "code",
      "execution_count": null,
      "metadata": {
        "id": "qUupB6S5wGFR"
      },
      "outputs": [],
      "source": [
        "def HelloWorldXY(x, y):\n",
        "\n",
        " if (x < 10):\n",
        "    print(\"Hello World, x was < 10\")\n",
        " elif (x < 20):\n",
        "    print(\"Hello World, x was >= 10 but < 20\")\n",
        " else:\n",
        "     print(\"Hello World, x was >= 20\")\n",
        "     \n",
        " return x + y"
      ]
    },
    {
      "cell_type": "code",
      "execution_count": null,
      "metadata": {
        "colab": {
          "base_uri": "https://localhost:8080/"
        },
        "id": "2eG288rcwRt6",
        "outputId": "2f920efe-dbf5-4576-8b73-7249e5ff46e1"
      },
      "outputs": [
        {
          "output_type": "stream",
          "name": "stdout",
          "text": [
            "Hello World, x was < 10\n",
            "3\n"
          ]
        }
      ],
      "source": [
        "print(HelloWorldXY(1,2))  "
      ]
    },
    {
      "cell_type": "markdown",
      "metadata": {
        "id": "lUgclEFLxPaW"
      },
      "source": [
        "### Iteration"
      ]
    },
    {
      "cell_type": "code",
      "execution_count": null,
      "metadata": {
        "colab": {
          "base_uri": "https://localhost:8080/"
        },
        "id": "aMwAUX34xZH7",
        "outputId": "757560f6-1f4f-49e8-ffb3-300fa8237f06"
      },
      "outputs": [
        {
          "output_type": "stream",
          "name": "stdout",
          "text": [
            "--- Now running with i: 8\n",
            "Hello World, x was < 10\n",
            "Result from HelloWorld: 16\n",
            "\n",
            "--- Now running with i: 13\n",
            "Hello World, x was >= 10 but < 20\n",
            "Result from HelloWorld: 26\n",
            "\n",
            "--- Now running with i: 18\n",
            "Hello World, x was >= 10 but < 20\n",
            "Result from HelloWorld: 36\n",
            "\n",
            "--- Now running with i: 23\n",
            "Hello World, x was >= 20\n",
            "Result from HelloWorld: 46\n",
            "\n"
          ]
        }
      ],
      "source": [
        " # i=8, 13, 18, 23 (start, stop, step)     \n",
        " # i เริ่มต้นเป็น 18 บวกค่าที่ละ 5 ทำจนกว่าจะ  >= 25 ก็หลุด\n",
        "for i in range(8, 25, 5):    \n",
        "    print(\"--- Now running with i: {}\".format(i))   # format(i) : การนำค่า i ไปไว้ใน {..} \n",
        "    r = HelloWorldXY(i,i)\n",
        "    print(\"Result from HelloWorld: {}\".format(r))  # r : ค่าที่ retrun x + y มาจาก func โดยส่ง i + i ไปบวก  \n",
        "\n",
        "    print()"
      ]
    },
    {
      "cell_type": "markdown",
      "metadata": {
        "id": "Jh0xSEHb4AaB"
      },
      "source": [
        "## Various kinds of loops starting at 0 to 2\n"
      ]
    },
    {
      "cell_type": "code",
      "execution_count": 13,
      "metadata": {
        "colab": {
          "base_uri": "https://localhost:8080/"
        },
        "id": "vVONK76e4DR7",
        "outputId": "cdab5b5a-3800-4a48-9ac0-ecb848f3aee3"
      },
      "outputs": [
        {
          "output_type": "stream",
          "name": "stdout",
          "text": [
            "Various kinds of loops starting at 0 to 2\n"
          ]
        }
      ],
      "source": [
        "print(\"Various kinds of loops starting at 0 to 2\")"
      ]
    }
  ],
  "metadata": {
    "colab": {
      "name": "COS3190_week1",
      "toc_visible": true,
      "provenance": [],
      "authorship_tag": "ABX9TyOmkt4youEPS39sKPLkbeSE",
      "include_colab_link": true
    },
    "kernelspec": {
      "display_name": "Python 3",
      "name": "python3"
    },
    "language_info": {
      "name": "python"
    }
  },
  "nbformat": 4,
  "nbformat_minor": 0
}