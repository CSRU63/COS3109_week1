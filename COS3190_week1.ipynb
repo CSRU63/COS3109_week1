{
  "cells": [
    {
      "cell_type": "markdown",
      "metadata": {
        "id": "view-in-github",
        "colab_type": "text"
      },
      "source": [
        "<a href=\"https://colab.research.google.com/github/CSRU63/COS3109_week1/blob/main/COS3190_week1.ipynb\" target=\"_parent\"><img src=\"https://colab.research.google.com/assets/colab-badge.svg\" alt=\"Open In Colab\"/></a>"
      ]
    },
    {
      "cell_type": "markdown",
      "metadata": {
        "id": "Z0g1mY3it6oU"
      },
      "source": [
        "# Intro to Phyton \n"
      ]
    },
    {
      "cell_type": "markdown",
      "metadata": {
        "id": "-JsZEg4twpAp"
      },
      "source": [
        "## Hello World"
      ]
    },
    {
      "cell_type": "code",
      "execution_count": null,
      "metadata": {
        "colab": {
          "base_uri": "https://localhost:8080/"
        },
        "id": "myBeHSCfuiIM",
        "outputId": "26a53e7a-0a22-42a0-9bc3-afd113155664"
      },
      "outputs": [
        {
          "output_type": "stream",
          "name": "stdout",
          "text": [
            "Hello World\n"
          ]
        }
      ],
      "source": [
        "# Never mind this statement, for compatibility reasons\n",
        "from __future__ import absolute_import, division, print_function, unicode_literals\n",
        "print(\"Hello World\")"
      ]
    },
    {
      "cell_type": "markdown",
      "metadata": {
        "id": "yLFkoIUTwdj-"
      },
      "source": [
        "## Function, Conditionals, and Iteration"
      ]
    },
    {
      "cell_type": "markdown",
      "metadata": {
        "id": "mRHzg3dLxkzg"
      },
      "source": [
        "### Function and contitional"
      ]
    },
    {
      "cell_type": "code",
      "execution_count": null,
      "metadata": {
        "id": "qUupB6S5wGFR"
      },
      "outputs": [],
      "source": [
        "def HelloWorldXY(x, y):\n",
        "\n",
        " if (x < 10):\n",
        "    print(\"Hello World, x was < 10\")\n",
        " elif (x < 20):\n",
        "    print(\"Hello World, x was >= 10 but < 20\")\n",
        " else:\n",
        "     print(\"Hello World, x was >= 20\")\n",
        "     \n",
        " return x + y"
      ]
    },
    {
      "cell_type": "code",
      "execution_count": null,
      "metadata": {
        "colab": {
          "base_uri": "https://localhost:8080/"
        },
        "id": "2eG288rcwRt6",
        "outputId": "2f920efe-dbf5-4576-8b73-7249e5ff46e1"
      },
      "outputs": [
        {
          "output_type": "stream",
          "name": "stdout",
          "text": [
            "Hello World, x was < 10\n",
            "3\n"
          ]
        }
      ],
      "source": [
        "print(HelloWorldXY(1,2))  "
      ]
    },
    {
      "cell_type": "markdown",
      "metadata": {
        "id": "lUgclEFLxPaW"
      },
      "source": [
        "### Iteration"
      ]
    },
    {
      "cell_type": "code",
      "execution_count": null,
      "metadata": {
        "colab": {
          "base_uri": "https://localhost:8080/"
        },
        "id": "aMwAUX34xZH7",
        "outputId": "757560f6-1f4f-49e8-ffb3-300fa8237f06"
      },
      "outputs": [
        {
          "output_type": "stream",
          "name": "stdout",
          "text": [
            "--- Now running with i: 8\n",
            "Hello World, x was < 10\n",
            "Result from HelloWorld: 16\n",
            "\n",
            "--- Now running with i: 13\n",
            "Hello World, x was >= 10 but < 20\n",
            "Result from HelloWorld: 26\n",
            "\n",
            "--- Now running with i: 18\n",
            "Hello World, x was >= 10 but < 20\n",
            "Result from HelloWorld: 36\n",
            "\n",
            "--- Now running with i: 23\n",
            "Hello World, x was >= 20\n",
            "Result from HelloWorld: 46\n",
            "\n"
          ]
        }
      ],
      "source": [
        " # i=8, 13, 18, 23 (start, stop, step)     \n",
        " # i เริ่มต้นเป็น 18 บวกค่าที่ละ 5 ทำจนกว่าจะ  >= 25 ก็หลุด\n",
        "for i in range(8, 25, 5):    \n",
        "    print(\"--- Now running with i: {}\".format(i))   # format(i) : การนำค่า i ไปไว้ใน {..} \n",
        "    r = HelloWorldXY(i,i)\n",
        "    print(\"Result from HelloWorld: {}\".format(r))  # r : ค่าที่ retrun x + y มาจาก func โดยส่ง i + i ไปบวก  \n",
        "\n",
        "    print()"
      ]
    },
    {
      "cell_type": "markdown",
      "metadata": {
        "id": "Jh0xSEHb4AaB"
      },
      "source": [
        "## Various kinds of loops starting at 0 to 2\n"
      ]
    },
    {
      "cell_type": "code",
      "execution_count": null,
      "metadata": {
        "colab": {
          "base_uri": "https://localhost:8080/"
        },
        "id": "vVONK76e4DR7",
        "outputId": "178a273b-6eef-43ba-d014-5957922e7338"
      },
      "outputs": [
        {
          "output_type": "stream",
          "name": "stdout",
          "text": [
            "Iterate over the items. `range(2)` is like a list [0,1].\n",
            "0\n",
            "1\n"
          ]
        }
      ],
      "source": [
        "print(\"Iterate over the items. `range(2)` is like a list [0,1].\")\n",
        "for i in range (2):\n",
        "  print(i)"
      ]
    },
    {
      "cell_type": "code",
      "source": [
        "print(\"Iterate over an actual list.\")\n",
        "for i in [0,1]:\n",
        "  print(i)"
      ],
      "metadata": {
        "colab": {
          "base_uri": "https://localhost:8080/"
        },
        "id": "2jgq_JdNN7t4",
        "outputId": "193f1375-3299-446e-b4c3-1bdd1c860072"
      },
      "execution_count": null,
      "outputs": [
        {
          "output_type": "stream",
          "name": "stdout",
          "text": [
            "Iterate over an actual list.\n",
            "0\n",
            "1\n"
          ]
        }
      ]
    },
    {
      "cell_type": "code",
      "source": [
        "print(\"While works\")\n",
        "i = 0\n",
        "while i < 2:\n",
        "  print(i)\n",
        "  i += 1"
      ],
      "metadata": {
        "colab": {
          "base_uri": "https://localhost:8080/"
        },
        "id": "lV3wvCk_Okcx",
        "outputId": "bf8ec34b-3214-4540-c12c-2cbdb3927965"
      },
      "execution_count": null,
      "outputs": [
        {
          "output_type": "stream",
          "name": "stdout",
          "text": [
            "While works\n",
            "0\n",
            "1\n"
          ]
        }
      ]
    },
    {
      "cell_type": "markdown",
      "source": [
        "## Numpy and lists"
      ],
      "metadata": {
        "id": "gsDDmrEZOyVp"
      }
    },
    {
      "cell_type": "code",
      "source": [
        "sea_creatures = ['shark', 'cuttlefish', 'squid', 'mantis shrimp', 'anemone']"
      ],
      "metadata": {
        "id": "H9JqKfUWO4n9"
      },
      "execution_count": null,
      "outputs": []
    },
    {
      "cell_type": "code",
      "source": [
        "sea_creatures[0] = 'shark'\n",
        "sea_creatures[2] = 'squid'\n",
        "sea_creatures[4] = 'anemone'"
      ],
      "metadata": {
        "id": "C1Y6qtUGPVl6"
      },
      "execution_count": null,
      "outputs": []
    },
    {
      "cell_type": "code",
      "source": [
        "for i in range (5):\n",
        "  print(sea_creatures[i])"
      ],
      "metadata": {
        "id": "PsfKnHOFPzVN"
      },
      "execution_count": null,
      "outputs": []
    },
    {
      "cell_type": "code",
      "source": [
        "import numpy as np  # import numpy โดยให้ชื่อเล่นมันว่า np \n",
        "\n",
        "a  = np.array( ['Hello ', 'World'])\n",
        "a  = np.append(a, '!')   # เป็นการ append อักขระ ! เข้าไปในข้อมูลอาร์เรย์ a \n",
        "print(\"Current Array : {}\".format(a) )"
      ],
      "metadata": {
        "id": "oiqnoxnlQcPs",
        "colab": {
          "base_uri": "https://localhost:8080/"
        },
        "outputId": "2efa17bd-10a4-49aa-f4b5-e511362f9bdc"
      },
      "execution_count": null,
      "outputs": [
        {
          "output_type": "stream",
          "name": "stdout",
          "text": [
            "Current Array : ['Hello ' 'World' '!']\n"
          ]
        }
      ]
    },
    {
      "cell_type": "code",
      "source": [
        "print(\"Printing each element\")  # พิมพ์ข้อมูลแต่ละตัว\n",
        "for i in a:\n",
        "  print(i)"
      ],
      "metadata": {
        "id": "aDQX0rG1SGO0",
        "colab": {
          "base_uri": "https://localhost:8080/"
        },
        "outputId": "0cd59c1d-0fc7-43e3-faae-9e7d05b80cca"
      },
      "execution_count": null,
      "outputs": [
        {
          "output_type": "stream",
          "name": "stdout",
          "text": [
            "Printing each element\n",
            "Hello \n",
            "World\n",
            "!\n"
          ]
        }
      ]
    },
    {
      "cell_type": "code",
      "source": [
        "print(\"Printing each element and their index\")   # พิมพ์ข้อมูลแต่ละตัวโดยใช้ตัวชี้ในการเข้าถึง \n",
        "for i,e in enumerate(a):\n",
        "  print(\"Index: {}, was: {}\".format(i, e))"
      ],
      "metadata": {
        "id": "tLjkIzi-Sb2O"
      },
      "execution_count": null,
      "outputs": []
    },
    {
      "cell_type": "code",
      "source": [
        "print(\"-- Showing some basic math on arrays\")\n",
        "b = np.array([0,1,4,3,2])\n",
        "\n",
        "print(\"Max: {}\".format(np.max(b)))                  \n",
        "print(\"Average: {}\".format(np.average(b)))      \n",
        "print(\"Max index: {}\".format(np.argmax(b)))     \n",
        "\n",
        "print('\\n--------------------------------------------')\n",
        "\n",
        "print(\"\\nYou can print the type of anything\")\n",
        "print(\"Type of b: {}, type of b[0]: {}\".format(type(b), type(b[0])))"
      ],
      "metadata": {
        "id": "jRIKdNg3T1h-"
      },
      "execution_count": null,
      "outputs": []
    },
    {
      "cell_type": "markdown",
      "source": [
        ""
      ],
      "metadata": {
        "id": "zH4iTIebcezX"
      }
    },
    {
      "cell_type": "code",
      "source": [
        "print(\"Use numpy to create a [3,3] dimension array with random number\")\n",
        "c = np.random.rand(3,3)\n",
        "print(c)"
      ],
      "metadata": {
        "id": "_KGN69XUVP5B"
      },
      "execution_count": null,
      "outputs": []
    },
    {
      "cell_type": "code",
      "source": [
        "print(\"You can print the dimensions of arrays\")\n",
        "print(\"Shape of a: {}\".format(a.shape))\n",
        "print(\"Shape of b: {}\".format(b.shape))\n",
        "print(\"Shape of c: {}\".format(c.shape))\n",
        "\n",
        "ary = np.array([\"leo\", \"mozart\"])\n",
        "print(\"Shape of art : {}\".format(ary.shape))"
      ],
      "metadata": {
        "id": "caQ6HlsDVlF6"
      },
      "execution_count": null,
      "outputs": []
    },
    {
      "cell_type": "markdown",
      "source": [
        "## Colab Specifics : to run commands at the VM's terminal, prefix the line with an exclamation point (!)"
      ],
      "metadata": {
        "id": "U04kawioXBia"
      }
    },
    {
      "cell_type": "code",
      "source": [
        "!ls -l"
      ],
      "metadata": {
        "colab": {
          "base_uri": "https://localhost:8080/"
        },
        "id": "_zMiJEuaXjgX",
        "outputId": "7d253056-858f-4f40-de2e-9898496eb02d"
      },
      "execution_count": null,
      "outputs": [
        {
          "output_type": "stream",
          "name": "stdout",
          "text": [
            "total 4\n",
            "drwxr-xr-x 1 root root 4096 Jul 13 13:43 sample_data\n"
          ]
        }
      ]
    },
    {
      "cell_type": "code",
      "source": [
        "print(\"Install numpy\") # Just for test, numpy is actually preinstalled in all Colab instancs\n",
        "!pip install numpy"
      ],
      "metadata": {
        "id": "hapDPL8aYsy5"
      },
      "execution_count": null,
      "outputs": []
    },
    {
      "cell_type": "markdown",
      "source": [
        "## Exercise"
      ],
      "metadata": {
        "id": "N0FlIqUtZ9GI"
      }
    },
    {
      "cell_type": "code",
      "source": [
        "#1\n",
        "!pwd\n",
        "!/root\n",
        "!ls-l\n",
        "\n",
        "#2\n",
        "fruits = [\"apple\", \"banana\", \"cherry\"]\n",
        "\n",
        "#3\n",
        "fruits[0] = \"kiwi\"\n",
        "for i in fruits:\n",
        "  print(i)\n",
        "print(\"\\n-------------------\")\n",
        "\n",
        "#4\n",
        "import numpy as np\n",
        "a1 = np.append(fruits, \"orange\")\n",
        "for i in a1:\n",
        "  print(i)\n",
        "print(\"\\n-------------------\")\n",
        "\n",
        "#5\n",
        "a1 = np.insert(a1, 1, \"Lemon\")\n",
        "for i in a1:\n",
        "  print(i)\n",
        "print(\"\\n-------------------\")\n",
        "\n",
        "#6\n",
        "delete = 2\n",
        "a1 = np.delete(a1, delete)\n",
        "for i in a1:\n",
        "  print(i)\n",
        "print(\"\\n-------------------\")\n",
        "\n",
        "\n",
        "\n",
        "aa = int(input(\"enter a : \"))\n",
        "bb = int(input(\"enter b : \"))\n",
        "\n",
        "#7\n",
        "if aa > bb :\n",
        "  print(\"Hello World\")\n",
        "\n",
        "#8\n",
        "if aa != bb:\n",
        "  print(\"Hello World\")\n",
        "\n",
        "#9\n",
        "if aa == bb :\n",
        "  print(\"Yes\")\n",
        "else:\n",
        "  print(\"No\")\n",
        "\n",
        "#10\n",
        "if aa == bb:\n",
        "  print(\"1\")\n",
        "elif aa > bb:\n",
        "  print(\"2\")\n",
        "else:\n",
        "  print(\"3\")\n",
        "\n",
        "#11\n",
        "aa = int(input(\"enter a : \"))\n",
        "bb = int(input(\"enter b : \"))\n",
        "cc = int(input(\"enter c : \"))\n",
        "dd = int(input(\"enter d : \"))\n",
        "if aa == bb and cc == dd:\n",
        "  print(\"Hello World\")\n",
        "\n",
        "#12 \n",
        "if aa == bb or cc == dd:\n",
        "  print(\"Hello World\")\n",
        "\n",
        "print(\"\\n-------------------\")\n",
        "#13\n",
        "for i in range (6):\n",
        "  print(\"Loop : #{}\".format(i))\n",
        "\n",
        "print(\"\\n-------------------\")\n",
        "\n",
        "#14\n",
        "for i in range (3, 14):\n",
        "  print(\"Loop : #{}\".format(i))\n"
      ],
      "metadata": {
        "id": "oecyWz4NZ_2c"
      },
      "execution_count": null,
      "outputs": []
    }
  ],
  "metadata": {
    "colab": {
      "name": "COS3190_week1",
      "provenance": [],
      "collapsed_sections": [],
      "authorship_tag": "ABX9TyNkuhNtznPTEuQ6nqfJojxz",
      "include_colab_link": true
    },
    "kernelspec": {
      "display_name": "Python 3",
      "name": "python3"
    },
    "language_info": {
      "name": "python"
    }
  },
  "nbformat": 4,
  "nbformat_minor": 0
}